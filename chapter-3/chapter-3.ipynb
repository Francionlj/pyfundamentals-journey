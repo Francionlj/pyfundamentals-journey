{
 "cells": [
  {
   "cell_type": "markdown",
   "id": "610e8f62",
   "metadata": {},
   "source": [
    "# Introduction to the List"
   ]
  },
  {
   "cell_type": "markdown",
   "id": "3c62c3d5",
   "metadata": {},
   "source": [
    "## Introduction"
   ]
  },
  {
   "cell_type": "markdown",
   "id": "fdd037e1",
   "metadata": {},
   "source": [
    "In this chapter, we will cover basic concepts of lists in Python and dive deeper in the next chapter. A list is one of Python's fundamental tools, where we can store from a few to thousands of pieces of information, making the code much more organized and clean."
   ]
  },
  {
   "cell_type": "markdown",
   "id": "2d269567",
   "metadata": {},
   "source": [
    "## What is List"
   ]
  },
  {
   "cell_type": "markdown",
   "id": "e597c2c8",
   "metadata": {},
   "source": [
    "A `list` is simply a collection of information where we can add various types of data, such as numbers, strings, and others. In Python, a list is denoted by square brackets `[]` and each element is separated by a comma `,`. Below is a code example showing how to create a list:\n"
   ]
  },
  {
   "cell_type": "code",
   "execution_count": 348,
   "id": "f5dea041",
   "metadata": {},
   "outputs": [
    {
     "name": "stdout",
     "output_type": "stream",
     "text": [
      "['trek', 'cannondale', 'redline', 'specialized']\n"
     ]
    }
   ],
   "source": [
    "bicycles = ['trek', 'cannondale', 'redline', 'specialized']\n",
    "print(bicycles)"
   ]
  },
  {
   "cell_type": "markdown",
   "id": "c0b04adf",
   "metadata": {},
   "source": [
    "## Accessing List Elements"
   ]
  },
  {
   "cell_type": "markdown",
   "id": "80ba9c72",
   "metadata": {},
   "source": [
    "The list, as mentioned earlier, is an ordered collection that we can access through its index. It is important to note that in Python, the index does not start at 1, but at `0`. To access an element, simply place square brackets `[]` after the variable assigned to the list, containing the desired index."
   ]
  },
  {
   "cell_type": "code",
   "execution_count": 349,
   "id": "a0ced9b1",
   "metadata": {},
   "outputs": [
    {
     "name": "stdout",
     "output_type": "stream",
     "text": [
      "trek\n"
     ]
    }
   ],
   "source": [
    "bicycles = ['trek', 'cannondale', 'redline', 'specialized']\n",
    "print(bicycles[0])"
   ]
  },
  {
   "cell_type": "markdown",
   "id": "b5cadd4d",
   "metadata": {},
   "source": [
    "We can also use any of the methods we saw in `Chapter 2` on the elements of this list."
   ]
  },
  {
   "cell_type": "code",
   "execution_count": 350,
   "id": "665eeb62",
   "metadata": {},
   "outputs": [
    {
     "name": "stdout",
     "output_type": "stream",
     "text": [
      "Trek\n"
     ]
    }
   ],
   "source": [
    "bicycles = ['trek', 'cannondale', 'redline', 'specialized']\n",
    "print(bicycles[0].title())"
   ]
  },
  {
   "cell_type": "markdown",
   "id": "8f35955c",
   "metadata": {},
   "source": [
    "## Index Positions Start at 0, Not 1"
   ]
  },
  {
   "cell_type": "markdown",
   "id": "2dccbeee",
   "metadata": {},
   "source": [
    "As we have started to mention earlier, Python, like most programming languages, has its index starting at `0`. This happens because lists are implemented at a lower level of programming. The second index of a list is `1`, and so on. To access the 4th element of our list, you just need to use the index `3`."
   ]
  },
  {
   "cell_type": "code",
   "execution_count": 351,
   "id": "8690f1a2",
   "metadata": {},
   "outputs": [
    {
     "name": "stdout",
     "output_type": "stream",
     "text": [
      "cannondale\n",
      "specialized\n"
     ]
    }
   ],
   "source": [
    "bicycles = ['trek', 'cannondale', 'redline', 'specialized']\n",
    "print(bicycles[1])\n",
    "print(bicycles[3])"
   ]
  },
  {
   "cell_type": "markdown",
   "id": "068923d8",
   "metadata": {},
   "source": [
    "And if, by any chance, we want to access the last value of a list and for some reason do not know its size, we just use `-1`, which makes our work easier. If we want to access the second to last, we use `-2`, and so on."
   ]
  },
  {
   "cell_type": "code",
   "execution_count": 352,
   "id": "6d0eccff",
   "metadata": {},
   "outputs": [
    {
     "name": "stdout",
     "output_type": "stream",
     "text": [
      "specialized\n",
      "redline\n"
     ]
    }
   ],
   "source": [
    "bicycles = ['trek', 'cannondale', 'redline', 'specialized']\n",
    "print(bicycles[-1])\n",
    "print(bicycles[-2])"
   ]
  },
  {
   "cell_type": "markdown",
   "id": "5c04434b",
   "metadata": {},
   "source": [
    "## Using Individual Values from a List"
   ]
  },
  {
   "cell_type": "markdown",
   "id": "b155bba5",
   "metadata": {},
   "source": [
    "We can use individual values from a list like any other variable, including with `f-string`, based on the list index."
   ]
  },
  {
   "cell_type": "code",
   "execution_count": 353,
   "id": "2103df05",
   "metadata": {},
   "outputs": [
    {
     "name": "stdout",
     "output_type": "stream",
     "text": [
      "My first bicycle was a Trek.\n"
     ]
    }
   ],
   "source": [
    "bicycles = ['trek', 'cannondale', 'redline', 'specialized']\n",
    "message = f\"My first bicycle was a {bicycles[0].title()}.\"\n",
    "print(message)"
   ]
  },
  {
   "cell_type": "markdown",
   "id": "21d9c4c6",
   "metadata": {},
   "source": [
    "## Modifying, Adding, and Removing Elements from a List"
   ]
  },
  {
   "cell_type": "markdown",
   "id": "2ff30fab",
   "metadata": {},
   "source": [
    "A list is a `dynamic` element in Python, which means that after its creation, we can `add`, `remove`, and `modify` its elements."
   ]
  },
  {
   "cell_type": "markdown",
   "id": "7e13589c",
   "metadata": {},
   "source": [
    "### Modifying Elements in a List"
   ]
  },
  {
   "cell_type": "markdown",
   "id": "4b9292aa",
   "metadata": {},
   "source": [
    "Modifying an element of a list is very similar to accessing a specific value. You just need to type the list name, then specify the index you want to change, and finally assign the new value."
   ]
  },
  {
   "cell_type": "code",
   "execution_count": 354,
   "id": "eb12cd75",
   "metadata": {},
   "outputs": [
    {
     "name": "stdout",
     "output_type": "stream",
     "text": [
      "['honda', 'yamaha', 'suzuki']\n",
      "['ducati', 'yamaha', 'suzuki']\n"
     ]
    }
   ],
   "source": [
    "motocycles = ['honda', 'yamaha', 'suzuki']\n",
    "print(motocycles)\n",
    "\n",
    "motocycles[0] = 'ducati'\n",
    "print(motocycles)"
   ]
  },
  {
   "cell_type": "markdown",
   "id": "14309367",
   "metadata": {},
   "source": [
    "We can change any value in a list, not just the first one."
   ]
  },
  {
   "cell_type": "markdown",
   "id": "4832fe3d",
   "metadata": {},
   "source": [
    "### Adding Elements to a List"
   ]
  },
  {
   "cell_type": "markdown",
   "id": "65fb44cb",
   "metadata": {},
   "source": [
    "For any reason, you may need to add a specific element to a list. In Python, there are several ways to do this."
   ]
  },
  {
   "cell_type": "markdown",
   "id": "d0b81f0f",
   "metadata": {},
   "source": [
    "#### Appending Elements to the End of a List"
   ]
  },
  {
   "cell_type": "markdown",
   "id": "02145361",
   "metadata": {},
   "source": [
    "The easiest way to add a value to a list is by appending an element to its end using the `.append()` command. Let's add a value to the list `motorcycles`."
   ]
  },
  {
   "cell_type": "code",
   "execution_count": 355,
   "id": "c85868f3",
   "metadata": {},
   "outputs": [
    {
     "name": "stdout",
     "output_type": "stream",
     "text": [
      "['honda', 'yamaha', 'suzuki']\n",
      "['honda', 'yamaha', 'suzuki', 'ducati']\n"
     ]
    }
   ],
   "source": [
    "motocycles = ['honda', 'yamaha', 'suzuki']\n",
    "print(motocycles)\n",
    "\n",
    "motocycles.append('ducati')\n",
    "print(motocycles)"
   ]
  },
  {
   "cell_type": "markdown",
   "id": "1a7562b4",
   "metadata": {},
   "source": [
    "It is also possible to create an empty list and add values to it."
   ]
  },
  {
   "cell_type": "code",
   "execution_count": 356,
   "id": "8c3225ee",
   "metadata": {},
   "outputs": [
    {
     "name": "stdout",
     "output_type": "stream",
     "text": [
      "['honda', 'yamaha', 'suzuki']\n"
     ]
    }
   ],
   "source": [
    "motocycles = []\n",
    "motocycles.append('honda')\n",
    "motocycles.append('yamaha')\n",
    "motocycles.append('suzuki')\n",
    "print(motocycles)"
   ]
  },
  {
   "cell_type": "markdown",
   "id": "6e71888d",
   "metadata": {},
   "source": [
    "#### Inserting Elements into a List"
   ]
  },
  {
   "cell_type": "markdown",
   "id": "93de727b",
   "metadata": {},
   "source": [
    "We can add a new value to a list using the `.insert()` method. To do this, type the list name, then `.insert()`, and inside the parentheses put the position first and the value you want second. This operation shifts all elements after the specified index to the right."
   ]
  },
  {
   "cell_type": "code",
   "execution_count": 357,
   "id": "9b97213f",
   "metadata": {},
   "outputs": [
    {
     "name": "stdout",
     "output_type": "stream",
     "text": [
      "['honda', 'yamaha', 'suzuki']\n",
      "['ducati', 'honda', 'yamaha', 'suzuki']\n"
     ]
    }
   ],
   "source": [
    "motocycles = ['honda', 'yamaha', 'suzuki']\n",
    "print(motocycles)\n",
    "\n",
    "motocycles.insert(0, 'ducati')\n",
    "print(motocycles)"
   ]
  },
  {
   "cell_type": "markdown",
   "id": "84011674",
   "metadata": {},
   "source": [
    "### Removing Elements from a List"
   ]
  },
  {
   "cell_type": "markdown",
   "id": "e1764f8d",
   "metadata": {},
   "source": [
    "It is quite common to want to remove values from a list. And again, Python already provides some options to do this."
   ]
  },
  {
   "cell_type": "markdown",
   "id": "de5481d8",
   "metadata": {},
   "source": [
    "#### Removing an Element Using the `del` Statement"
   ]
  },
  {
   "cell_type": "markdown",
   "id": "bf4fa1de",
   "metadata": {},
   "source": [
    "If you know the index of the element you want to remove from your list, just use the `del` statement. Unlike the methods we have seen, you write the code `del` followed by the list and the index."
   ]
  },
  {
   "cell_type": "code",
   "execution_count": 358,
   "id": "7f7e8a83",
   "metadata": {},
   "outputs": [
    {
     "name": "stdout",
     "output_type": "stream",
     "text": [
      "['honda', 'yamaha', 'suzuki']\n",
      "['yamaha', 'suzuki']\n"
     ]
    }
   ],
   "source": [
    "motocycles = ['honda', 'yamaha', 'suzuki']\n",
    "print(motocycles)\n",
    "\n",
    "del motocycles[0]\n",
    "print(motocycles)"
   ]
  },
  {
   "cell_type": "markdown",
   "id": "d05ddc88",
   "metadata": {},
   "source": [
    "It is also possible to do the same with other positions in the list."
   ]
  },
  {
   "cell_type": "code",
   "execution_count": 359,
   "id": "98f2eedf",
   "metadata": {},
   "outputs": [
    {
     "name": "stdout",
     "output_type": "stream",
     "text": [
      "['honda', 'yamaha', 'suzuki']\n",
      "['honda', 'yamaha']\n"
     ]
    }
   ],
   "source": [
    "motocycles = ['honda', 'yamaha', 'suzuki']\n",
    "print(motocycles)\n",
    "\n",
    "del motocycles[2]\n",
    "print(motocycles)"
   ]
  },
  {
   "cell_type": "markdown",
   "id": "00531cf4",
   "metadata": {},
   "source": [
    "It is worth noting that once removed with the `del` method, that value will no longer be available."
   ]
  },
  {
   "cell_type": "markdown",
   "id": "1dcc1744",
   "metadata": {},
   "source": [
    "#### Removing an Element Using the `pop()` Method"
   ]
  },
  {
   "cell_type": "markdown",
   "id": "93659d78",
   "metadata": {},
   "source": [
    "Sometimes we want to remove an element from a list, but we want to keep that value for some reason. The `pop()` method removes the last value from the list."
   ]
  },
  {
   "cell_type": "code",
   "execution_count": 360,
   "id": "11666099",
   "metadata": {},
   "outputs": [
    {
     "name": "stdout",
     "output_type": "stream",
     "text": [
      "['honda', 'yamaha', 'suzuki']\n",
      "['honda', 'yamaha']\n",
      "suzuki\n"
     ]
    }
   ],
   "source": [
    "motocycles = ['honda', 'yamaha', 'suzuki']\n",
    "print(motocycles)\n",
    "\n",
    "pop_motorcycle = motocycles.pop()\n",
    "print(motocycles)\n",
    "print(pop_motorcycle)"
   ]
  },
  {
   "cell_type": "markdown",
   "id": "5308a44a",
   "metadata": {},
   "source": [
    "#### Removing Elements from Any Position in a List"
   ]
  },
  {
   "cell_type": "markdown",
   "id": "6d9e44da",
   "metadata": {},
   "source": [
    "It is possible, using the `pop()` method, to remove any value from a list; we just need to add the index we want to remove inside the parentheses of `pop()`."
   ]
  },
  {
   "cell_type": "code",
   "execution_count": 361,
   "id": "286785a7",
   "metadata": {},
   "outputs": [
    {
     "name": "stdout",
     "output_type": "stream",
     "text": [
      "['honda', 'suzuki']\n",
      "The first motorcycle I owned was a Yamaha.\n",
      "['honda', 'suzuki']\n"
     ]
    }
   ],
   "source": [
    "motocycles = ['honda', 'yamaha', 'suzuki']\n",
    "frist_motorcycle = motocycles.pop(1)\n",
    "\n",
    "print(motocycles)\n",
    "print(f\"The first motorcycle I owned was a {frist_motorcycle.title()}.\")\n",
    "print(motocycles)"
   ]
  },
  {
   "cell_type": "markdown",
   "id": "dfc330b9",
   "metadata": {},
   "source": [
    "Remember that, whenever you remove an element, it will no longer be available. Try to think that if you remove an element from a list and will never use it again, use the `del` method; and if you plan to use it or store it elsewhere, use `pop()`."
   ]
  },
  {
   "cell_type": "markdown",
   "id": "48444415",
   "metadata": {},
   "source": [
    "#### Removing Elements by Value"
   ]
  },
  {
   "cell_type": "markdown",
   "id": "e1a93dec",
   "metadata": {},
   "source": [
    "If you, for some reason, do not know the index of the element you want to delete from a list, Python has the `.remove()` method."
   ]
  },
  {
   "cell_type": "code",
   "execution_count": null,
   "id": "b0c82189",
   "metadata": {},
   "outputs": [
    {
     "name": "stdout",
     "output_type": "stream",
     "text": [
      "['honda', 'yamaha', 'suzuki', 'ducati', 'ducati']\n",
      "['honda', 'yamaha', 'suzuki', 'ducati']\n"
     ]
    }
   ],
   "source": [
    "motocycles = ['honda', 'yamaha', 'suzuki', 'ducati']\n",
    "print(motocycles)\n",
    "\n",
    "motocycles.remove('ducati')\n",
    "print(motocycles)"
   ]
  },
  {
   "cell_type": "markdown",
   "id": "8b16035e",
   "metadata": {},
   "source": [
    "It is also possible to assign a variable and use that variable to delete the desired value."
   ]
  },
  {
   "cell_type": "code",
   "execution_count": 363,
   "id": "309e5ae9",
   "metadata": {},
   "outputs": [
    {
     "name": "stdout",
     "output_type": "stream",
     "text": [
      "['honda', 'yamaha', 'suzuki', 'ducati']\n",
      "['honda', 'yamaha', 'suzuki']\n",
      "\n",
      "A Ducati is too expensive for me.\n"
     ]
    }
   ],
   "source": [
    "motocycles = ['honda', 'yamaha', 'suzuki', 'ducati']\n",
    "print(motocycles)\n",
    "\n",
    "too_expensive = 'ducati'\n",
    "motocycles.remove(too_expensive)\n",
    "print(motocycles)\n",
    "print(f\"\\nA {too_expensive.title()} is too expensive for me.\")"
   ]
  },
  {
   "cell_type": "markdown",
   "id": "08b578d2",
   "metadata": {},
   "source": [
    "## Sorting Lists"
   ]
  },
  {
   "cell_type": "markdown",
   "id": "ea4ffa04",
   "metadata": {},
   "source": [
    "It is very common for lists to be created or provided in an unordered manner. Python provides options so that we can sort them depending on the situation."
   ]
  },
  {
   "cell_type": "markdown",
   "id": "d0c9d683",
   "metadata": {},
   "source": [
    "### Permanently Sorting a List with the `.sort()` Method"
   ]
  },
  {
   "cell_type": "markdown",
   "id": "8bb06ca5",
   "metadata": {},
   "source": [
    "Python has the `.sort()` method that sorts the list in alphabetical order. Just type the name of the list in question and add `.sort()` at the end."
   ]
  },
  {
   "cell_type": "code",
   "execution_count": 364,
   "id": "cd761dbb",
   "metadata": {},
   "outputs": [
    {
     "name": "stdout",
     "output_type": "stream",
     "text": [
      "['bmw', 'audi', 'toyota', 'subaru']\n",
      "['audi', 'bmw', 'subaru', 'toyota']\n"
     ]
    }
   ],
   "source": [
    "cars = ['bmw', 'audi', 'toyota', 'subaru']\n",
    "print(cars)\n",
    "\n",
    "cars.sort()\n",
    "print(cars)"
   ]
  },
  {
   "cell_type": "markdown",
   "id": "4fc3130f",
   "metadata": {},
   "source": [
    "We can also sort a list in descending order. Just put `reverse=True` inside the parentheses of the `sort()` method, like this: `.sort(reverse=True)`."
   ]
  },
  {
   "cell_type": "code",
   "execution_count": 365,
   "id": "1c0eb88f",
   "metadata": {},
   "outputs": [
    {
     "name": "stdout",
     "output_type": "stream",
     "text": [
      "['bmw', 'audi', 'toyota', 'subaru']\n",
      "['toyota', 'subaru', 'bmw', 'audi']\n"
     ]
    }
   ],
   "source": [
    "cars = ['bmw', 'audi', 'toyota', 'subaru']\n",
    "print(cars)\n",
    "\n",
    "cars.sort(reverse=True)\n",
    "print(cars)"
   ]
  },
  {
   "cell_type": "markdown",
   "id": "3562282b",
   "metadata": {},
   "source": [
    "### Sorting a Temporary List"
   ]
  },
  {
   "cell_type": "markdown",
   "id": "4800707e",
   "metadata": {},
   "source": [
    "If we want to keep the order of a list temporarily, unlike what `.sort()` does, that method is `.sorted()`."
   ]
  },
  {
   "cell_type": "code",
   "execution_count": 366,
   "id": "8eb3fbdc",
   "metadata": {},
   "outputs": [
    {
     "name": "stdout",
     "output_type": "stream",
     "text": [
      "Here is the original list:\n",
      "['bmw', 'audi', 'toyota', 'subaru']\n",
      "\n",
      "Here is the sorted list:\n",
      "['audi', 'bmw', 'subaru', 'toyota']\n",
      "\n",
      "Here is the original list again:\n",
      "['bmw', 'audi', 'toyota', 'subaru']\n"
     ]
    }
   ],
   "source": [
    "cars = ['bmw', 'audi', 'toyota', 'subaru']\n",
    "print(\"Here is the original list:\")\n",
    "print(cars)\n",
    "print(\"\\nHere is the sorted list:\")\n",
    "print(sorted(cars))\n",
    "print(\"\\nHere is the original list again:\")\n",
    "print(cars)"
   ]
  },
  {
   "cell_type": "markdown",
   "id": "0fb04bd1",
   "metadata": {},
   "source": [
    "Notice that even after applying the `.sorted()` method, the list returns to its original form."
   ]
  },
  {
   "cell_type": "markdown",
   "id": "87b9ccb0",
   "metadata": {},
   "source": [
    "## Sorting Lists in Reverse Order"
   ]
  },
  {
   "cell_type": "markdown",
   "id": "cf92bc69",
   "metadata": {},
   "source": [
    "Another way to reverse the order of a list is by using the `.reverse()` method."
   ]
  },
  {
   "cell_type": "code",
   "execution_count": 367,
   "id": "4cc3a851",
   "metadata": {},
   "outputs": [
    {
     "name": "stdout",
     "output_type": "stream",
     "text": [
      "['bmw', 'audi', 'toyota', 'subaru']\n",
      "['subaru', 'toyota', 'audi', 'bmw']\n"
     ]
    }
   ],
   "source": [
    "cars = ['bmw', 'audi', 'toyota', 'subaru']\n",
    "print(cars)\n",
    "cars.reverse()\n",
    "print(cars)"
   ]
  },
  {
   "cell_type": "markdown",
   "id": "3227f715",
   "metadata": {},
   "source": [
    "## Identifying the Size of Lists"
   ]
  },
  {
   "cell_type": "markdown",
   "id": "c477bc8f",
   "metadata": {},
   "source": [
    "If we just want to know the size of a list, we can use the `len()` method. Type the method `len()` and inside the parentheses put the name of the list."
   ]
  },
  {
   "cell_type": "code",
   "execution_count": 368,
   "id": "e04f801d",
   "metadata": {},
   "outputs": [
    {
     "name": "stdout",
     "output_type": "stream",
     "text": [
      "4\n"
     ]
    }
   ],
   "source": [
    "cars = ['bmw', 'audi', 'toyota', 'subaru']\n",
    "print(len(cars))"
   ]
  },
  {
   "cell_type": "markdown",
   "id": "a72f2a4b",
   "metadata": {},
   "source": [
    "It will show the total number of elements in the list. This `len()` method will be very useful in the upcoming chapters."
   ]
  }
 ],
 "metadata": {
  "kernelspec": {
   "display_name": ".venv",
   "language": "python",
   "name": "python3"
  },
  "language_info": {
   "codemirror_mode": {
    "name": "ipython",
    "version": 3
   },
   "file_extension": ".py",
   "mimetype": "text/x-python",
   "name": "python",
   "nbconvert_exporter": "python",
   "pygments_lexer": "ipython3",
   "version": "3.13.5"
  }
 },
 "nbformat": 4,
 "nbformat_minor": 5
}
