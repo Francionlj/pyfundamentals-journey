{
 "cells": [
  {
   "cell_type": "markdown",
   "id": "45e5ffa5",
   "metadata": {},
   "source": [
    "# Chapter 2: Variables and Simple Data Types"
   ]
  },
  {
   "cell_type": "markdown",
   "id": "4107391c",
   "metadata": {},
   "source": [
    "## Introduction:"
   ]
  },
  {
   "cell_type": "markdown",
   "id": "71577257",
   "metadata": {},
   "source": [
    "In this chapter, we will discuss the different data types we can work with in the Python language. We will also see how to use variables to represent data in our programs."
   ]
  },
  {
   "cell_type": "markdown",
   "id": "ad7596f7",
   "metadata": {},
   "source": [
    "## Hello WORD !"
   ]
  },
  {
   "cell_type": "code",
   "execution_count": 539,
   "id": "491ddd4c",
   "metadata": {},
   "outputs": [
    {
     "name": "stdout",
     "output_type": "stream",
     "text": [
      "Hello World!\n"
     ]
    }
   ],
   "source": [
    "print(\"Hello World!\")"
   ]
  },
  {
   "cell_type": "markdown",
   "id": "b70db161",
   "metadata": {},
   "source": [
    "When we run a **.py** file (which denotes a Python program), we instruct the operating system to use the Python interpreter to execute the script. The interpreter processes each statement in the source code, attempting to understand and carry out its instructions. By using the **print()** function, we invoke a built-in Python function that outputs to the screen whatever is enclosed within the parentheses."
   ]
  },
  {
   "cell_type": "markdown",
   "id": "f96d719e",
   "metadata": {},
   "source": [
    "## Variables"
   ]
  },
  {
   "cell_type": "markdown",
   "id": "86d61773",
   "metadata": {},
   "source": [
    "Now, let’s add another line to our **hello_world.py** file, at the beginning of the script."
   ]
  },
  {
   "cell_type": "code",
   "execution_count": 540,
   "id": "127dcb37",
   "metadata": {},
   "outputs": [
    {
     "name": "stdout",
     "output_type": "stream",
     "text": [
      "Hello PYTHON World!\n"
     ]
    }
   ],
   "source": [
    "message = \"Hello PYTHON World!\"\n",
    "print(message)"
   ]
  },
  {
   "cell_type": "markdown",
   "id": "ce8615b9",
   "metadata": {},
   "source": [
    "We will see the phrase Hello PYTHON World! displayed on the screen.\n",
    "By adding a variable called message, the Python interpreter assigns the variable `message` a value — in this case, `\"Hello PYTHON World!\"`.\n",
    "Adding a variable requires a bit more work from the interpreter, and when it reaches the second line, it displays what `message` represents.\n",
    "Now, let’s enhance our program a little further."
   ]
  },
  {
   "cell_type": "code",
   "execution_count": 541,
   "id": "fb881216",
   "metadata": {},
   "outputs": [
    {
     "name": "stdout",
     "output_type": "stream",
     "text": [
      "Hello PYTHON World!\n",
      "Hello PYTHON crash course World!\n"
     ]
    }
   ],
   "source": [
    "message = \"Hello PYTHON World!\"\n",
    "print(message)\n",
    "\n",
    "message = \"Hello PYTHON crash course World!\"\n",
    "print(message)"
   ]
  },
  {
   "cell_type": "markdown",
   "id": "f613f6d6",
   "metadata": {},
   "source": [
    "Now, our program displays two messages: Hello PYTHON World! and Hello PYTHON crash course World!\n",
    "This happens because it is possible to change the value of our variable at any time, and Python will always keep track of its current value."
   ]
  },
  {
   "cell_type": "markdown",
   "id": "84485a97",
   "metadata": {},
   "source": [
    "### Naming and Using Variables"
   ]
  },
  {
   "cell_type": "markdown",
   "id": "8e1eb627",
   "metadata": {},
   "source": [
    "It is important to follow some rules to avoid errors when running your code and to make it easier to read:\n",
    "*\tVariables can contain letters, numbers, and underscores (`_`). They can start with a letter or an underscore — for example, `message_1` — but never with a number, such as `1_number`.\n",
    "*\tSpaces between words are not allowed, but underscores (`_`) are permitted.\n",
    "*\tDo not use reserved words in Python, such as `print`, as variable names. Python reserves these words for specific purposes in the language.\n",
    "*\tBe careful when using the lowercase letter `l` or the uppercase letter `O`, as they may be confused with the numbers `1` and `0`.\n",
    "\t\tLearning how to create good variable names is especially useful as your program grows in complexity. However, this requires practice."
   ]
  },
  {
   "cell_type": "markdown",
   "id": "f8bc7b38",
   "metadata": {},
   "source": [
    "It is very common for a programmer to make mistakes. Good programmers also know how to respond to these errors efficiently.\n",
    "Now, let’s create a piece of code that will intentionally generate an error:"
   ]
  },
  {
   "cell_type": "code",
   "execution_count": 542,
   "id": "ad27342d",
   "metadata": {},
   "outputs": [],
   "source": [
    "# message = \"Hello PYTHON crash course World!\"\n",
    "# print(mesage)"
   ]
  },
  {
   "cell_type": "markdown",
   "id": "c0e59d70",
   "metadata": {},
   "source": [
    "When we make a mistake, the Python interpreter does its best to help us by displaying an error message.\n",
    "(This error can be observed both in the cell above and in the `hello_world_erro.py` program.)\n",
    "In this case, the NameError indicates that the variable `mesage` has not been defined — in other words, it has not been assigned a value.\n",
    "In this example, we omitted the letter “s” from `message`."
   ]
  },
  {
   "cell_type": "code",
   "execution_count": 543,
   "id": "874f346f",
   "metadata": {},
   "outputs": [
    {
     "name": "stdout",
     "output_type": "stream",
     "text": [
      "Hello PYTHON crash course World!\n"
     ]
    }
   ],
   "source": [
    "mesage = \"Hello PYTHON crash course World!\"\n",
    "print(mesage)"
   ]
  },
  {
   "cell_type": "markdown",
   "id": "928fe160",
   "metadata": {},
   "source": [
    "Now that we have created it, Python executed it without any problems. Although it is spelled incorrectly, the program ignores spelling.\n",
    "It is very common to mistype a single character in a line of your program, and equally common to spend some time searching for these errors."
   ]
  },
  {
   "cell_type": "markdown",
   "id": "90697434",
   "metadata": {},
   "source": [
    "Variables can be thought of as “storage boxes” that hold specific values.\n",
    "Now, let’s look at the types of variables we use in Python:\n",
    "*\tString\n",
    "*\tNumbers"
   ]
  },
  {
   "cell_type": "markdown",
   "id": "b31e1dfe",
   "metadata": {},
   "source": [
    "### Stringes"
   ]
  },
  {
   "cell_type": "markdown",
   "id": "9fc1dd0a",
   "metadata": {},
   "source": [
    "A string is a sequence of characters.\n",
    "In Python, anything enclosed in quotes is recognized as a string. You can use single quotes (`' '`) or double quotes (`\" \"`)."
   ]
  },
  {
   "cell_type": "code",
   "execution_count": 544,
   "id": "ef11ffad",
   "metadata": {},
   "outputs": [
    {
     "data": {
      "text/plain": [
       "'This is a string'"
      ]
     },
     "execution_count": 544,
     "metadata": {},
     "output_type": "execute_result"
    }
   ],
   "source": [
    "\"This is a string\""
   ]
  },
  {
   "cell_type": "code",
   "execution_count": 545,
   "id": "f07d0218",
   "metadata": {},
   "outputs": [
    {
     "data": {
      "text/plain": [
       "'This is also a string'"
      ]
     },
     "execution_count": 545,
     "metadata": {},
     "output_type": "execute_result"
    }
   ],
   "source": [
    "'This is also a string'"
   ]
  },
  {
   "cell_type": "markdown",
   "id": "0de2107a",
   "metadata": {},
   "source": [
    "This flexibility allows us to use quotes and apostrophes within our string."
   ]
  },
  {
   "cell_type": "code",
   "execution_count": 546,
   "id": "34e88b86",
   "metadata": {},
   "outputs": [
    {
     "data": {
      "text/plain": [
       "'I told my friend, \"Python is my favorite language!\"'"
      ]
     },
     "execution_count": 546,
     "metadata": {},
     "output_type": "execute_result"
    }
   ],
   "source": [
    "'I told my friend, \"Python is my favorite language!\"'"
   ]
  },
  {
   "cell_type": "markdown",
   "id": "3e72ea47",
   "metadata": {},
   "source": [
    "#### Ways to Use Strings."
   ]
  },
  {
   "cell_type": "markdown",
   "id": "85b8121c",
   "metadata": {},
   "source": [
    "One of the simplest tasks is to change characters between uppercase and lowercase."
   ]
  },
  {
   "cell_type": "markdown",
   "id": "8eca4d73",
   "metadata": {},
   "source": [
    "#### title()"
   ]
  },
  {
   "cell_type": "code",
   "execution_count": 547,
   "id": "d235cc10",
   "metadata": {},
   "outputs": [
    {
     "name": "stdout",
     "output_type": "stream",
     "text": [
      "Ada Lovelace\n"
     ]
    }
   ],
   "source": [
    "name = \"ada lovelace\"\n",
    "print(name.title())"
   ]
  },
  {
   "cell_type": "markdown",
   "id": "ee46d2ca",
   "metadata": {},
   "source": [
    "In this example, we can see that the variable `name` is assigned the value `\"ada lovelace\"`.\n",
    "When we use the `.title()` method after calling the variable inside `print()`, Python converts the first letter of each word to uppercase.\n",
    "The `.title()` method is called right after the variable `name`, using the syntax `name.title()`.\n",
    "Some methods require additional information inside parentheses `()`, but in this case, it is not necessary because `.title()` does not take any arguments."
   ]
  },
  {
   "cell_type": "markdown",
   "id": "49903997",
   "metadata": {},
   "source": [
    "#### lower() upper()"
   ]
  },
  {
   "cell_type": "markdown",
   "id": "774009f4",
   "metadata": {},
   "source": [
    "Several other Python methods can be used and are very useful for manipulating characters in Python, such as:"
   ]
  },
  {
   "cell_type": "code",
   "execution_count": 548,
   "id": "45abb2ee",
   "metadata": {},
   "outputs": [
    {
     "name": "stdout",
     "output_type": "stream",
     "text": [
      "ada lovelace\n",
      "ADA LOVELACE\n"
     ]
    }
   ],
   "source": [
    "name = \"Ada Lovelace\"\n",
    "print(name.lower())\n",
    "\n",
    "print(name.upper())"
   ]
  },
  {
   "cell_type": "markdown",
   "id": "255581c4",
   "metadata": {},
   "source": [
    "The `.lower()` method converts all characters to lowercase, while the `.upper()` method converts all characters to uppercase."
   ]
  },
  {
   "cell_type": "markdown",
   "id": "8e328b1b",
   "metadata": {},
   "source": [
    "#### format"
   ]
  },
  {
   "cell_type": "markdown",
   "id": "a0eb6158",
   "metadata": {},
   "source": [
    "In certain situations, we may want to use the value of a variable inside a string — for example, to represent a person’s first and last name."
   ]
  },
  {
   "cell_type": "code",
   "execution_count": 549,
   "id": "b46976e3",
   "metadata": {},
   "outputs": [
    {
     "name": "stdout",
     "output_type": "stream",
     "text": [
      "ada lovelace\n"
     ]
    }
   ],
   "source": [
    "frist_name = \"ada\"\n",
    "last_name = \"lovelace\"\n",
    "full_name = f\"{frist_name} {last_name}\"\n",
    "print(full_name)"
   ]
  },
  {
   "cell_type": "markdown",
   "id": "f66d8f68",
   "metadata": {},
   "source": [
    "To insert values into a string, simply place the letter `f` right before the string and use curly braces `{}` around the variables. Python will replace each variable with its corresponding value.\n",
    "This is called an f-string, where the `f` stands for format, because Python formats the string by replacing the variable names with their values.\n",
    "Many things can be done with f-strings, for example:"
   ]
  },
  {
   "cell_type": "code",
   "execution_count": 550,
   "id": "4f80e120",
   "metadata": {},
   "outputs": [
    {
     "name": "stdout",
     "output_type": "stream",
     "text": [
      "Ada Lovelace\n"
     ]
    }
   ],
   "source": [
    "frist_name = \"ada\"\n",
    "last_name = \"lovelace\"\n",
    "full_name = f\"{frist_name} {last_name}\"\n",
    "print(f\"{full_name}\".title())"
   ]
  },
  {
   "cell_type": "markdown",
   "id": "87d601d0",
   "metadata": {},
   "source": [
    "Using the `.title()` method, as we have seen earlier."
   ]
  },
  {
   "cell_type": "markdown",
   "id": "fdf931c1",
   "metadata": {},
   "source": [
    "#### Whitespace"
   ]
  },
  {
   "cell_type": "markdown",
   "id": "9499f15e",
   "metadata": {},
   "source": [
    "In programming, whitespace refers to any non-printable characters, such as spaces, tabs, and line break symbols.\n",
    "We can use whitespace to organize output, making it easier to read.\n",
    "To add a tab, simply use `\\t`."
   ]
  },
  {
   "cell_type": "code",
   "execution_count": 551,
   "id": "2b91a32f",
   "metadata": {},
   "outputs": [
    {
     "name": "stdout",
     "output_type": "stream",
     "text": [
      "Python\n",
      "\tPython\n"
     ]
    }
   ],
   "source": [
    "print(\"Python\")\n",
    "\n",
    "print(\"\\tPython\")"
   ]
  },
  {
   "cell_type": "markdown",
   "id": "c53d3420",
   "metadata": {},
   "source": [
    "To add line breaks, simply use `\\n`."
   ]
  },
  {
   "cell_type": "code",
   "execution_count": 552,
   "id": "922b4ea9",
   "metadata": {},
   "outputs": [
    {
     "name": "stdout",
     "output_type": "stream",
     "text": [
      "Linguages:\n",
      "Python\n",
      "C\n",
      "JavaScript\n"
     ]
    }
   ],
   "source": [
    "print(\"Linguages:\\nPython\\nC\\nJavaScript\")"
   ]
  },
  {
   "cell_type": "markdown",
   "id": "fa4d5022",
   "metadata": {},
   "source": [
    "It is possible to use a line break together with a tab:"
   ]
  },
  {
   "cell_type": "code",
   "execution_count": 553,
   "id": "5f659d5f",
   "metadata": {},
   "outputs": [
    {
     "name": "stdout",
     "output_type": "stream",
     "text": [
      "Linguages:\n",
      "\tPython\n",
      "\tC\n",
      "\tJavaScript\n"
     ]
    }
   ],
   "source": [
    "print(\"Linguages:\\n\\tPython\\n\\tC\\n\\tJavaScript\")"
   ]
  },
  {
   "cell_type": "markdown",
   "id": "8ee6c96d",
   "metadata": {},
   "source": [
    "#### strip()"
   ]
  },
  {
   "cell_type": "markdown",
   "id": "bd5993b8",
   "metadata": {},
   "source": [
    "Extra whitespace can make our program confusing, and in Python, `'python'` and `'python '` are two different strings.\n",
    "To remove this extra whitespace, simply use the `.strip()` method."
   ]
  },
  {
   "cell_type": "code",
   "execution_count": 554,
   "id": "3f46e543",
   "metadata": {},
   "outputs": [
    {
     "name": "stdout",
     "output_type": "stream",
     "text": [
      "python\n"
     ]
    }
   ],
   "source": [
    "favored_language = \" python \"\n",
    "print(favored_language.strip())"
   ]
  },
  {
   "cell_type": "markdown",
   "id": "ec78c106",
   "metadata": {},
   "source": [
    "The value `favored_language` contains whitespace, and Python’s `.strip()` method finds and removes it — but only temporarily.\n",
    "To apply the removal, simply do:"
   ]
  },
  {
   "cell_type": "code",
   "execution_count": 555,
   "id": "71d2712b",
   "metadata": {},
   "outputs": [
    {
     "name": "stdout",
     "output_type": "stream",
     "text": [
      "python\n"
     ]
    }
   ],
   "source": [
    "favored_language = \" python \"\n",
    "favored_language = favored_language.strip()\n",
    "print(favored_language)"
   ]
  },
  {
   "cell_type": "markdown",
   "id": "9cccaff7",
   "metadata": {},
   "source": [
    "If we want to remove whitespace from only one side of a string, we can do the following:\n",
    "*\t`.lstrip()` → removes whitespace from the left side (beginning of the string)\n",
    "*\t`.rstrip()` → removes whitespace from the right side (end of the string)"
   ]
  },
  {
   "cell_type": "code",
   "execution_count": 556,
   "id": "64b278d9",
   "metadata": {},
   "outputs": [
    {
     "name": "stdout",
     "output_type": "stream",
     "text": [
      "python \n"
     ]
    }
   ],
   "source": [
    "favored_language = ' python '\n",
    "print(favored_language.lstrip())"
   ]
  },
  {
   "cell_type": "code",
   "execution_count": 557,
   "id": "5457660f",
   "metadata": {},
   "outputs": [
    {
     "name": "stdout",
     "output_type": "stream",
     "text": [
      " python\n"
     ]
    }
   ],
   "source": [
    "favored_language = \" python \"\n",
    "print(favored_language.rstrip())"
   ]
  },
  {
   "cell_type": "markdown",
   "id": "5d68307e",
   "metadata": {},
   "source": [
    "#### Removing Prefixes"
   ]
  },
  {
   "cell_type": "markdown",
   "id": "869583ed",
   "metadata": {},
   "source": [
    "It is common to have to remove prefixes from a URL, such as `https://`, so we can focus only on the part of the URL that matters. To do this, simply do:"
   ]
  },
  {
   "cell_type": "code",
   "execution_count": 558,
   "id": "984f1181",
   "metadata": {},
   "outputs": [
    {
     "name": "stdout",
     "output_type": "stream",
     "text": [
      "nostarch.com\n"
     ]
    }
   ],
   "source": [
    "nostarch_url = \"https://nostarch.com\"\n",
    "print(nostarch_url.removeprefix(\"https://\"))"
   ]
  },
  {
   "cell_type": "markdown",
   "id": "22b6c9b6",
   "metadata": {},
   "source": [
    "Simply place the `.removeprefix()` method after the string to remove the prefix."
   ]
  },
  {
   "cell_type": "markdown",
   "id": "d47ec46c",
   "metadata": {},
   "source": [
    "### Numeros"
   ]
  },
  {
   "cell_type": "markdown",
   "id": "38580a71",
   "metadata": {},
   "source": [
    "Python handles numbers in several ways, but there are two main numeric types:\n",
    "*\tIntegers (`int`)\n",
    "*\tFloating-point numbers (`float`)"
   ]
  },
  {
   "cell_type": "markdown",
   "id": "7e6e6a6d",
   "metadata": {},
   "source": [
    "#### Integers"
   ]
  },
  {
   "cell_type": "markdown",
   "id": "7440eb8e",
   "metadata": {},
   "source": [
    "In Python, it is possible to add (`+`), subtract (`-`), multiply (`*`), and divide (`/`)."
   ]
  },
  {
   "cell_type": "code",
   "execution_count": 559,
   "id": "0da6dfa9",
   "metadata": {},
   "outputs": [
    {
     "data": {
      "text/plain": [
       "5"
      ]
     },
     "execution_count": 559,
     "metadata": {},
     "output_type": "execute_result"
    }
   ],
   "source": [
    "2 + 3"
   ]
  },
  {
   "cell_type": "code",
   "execution_count": 560,
   "id": "65264439",
   "metadata": {},
   "outputs": [
    {
     "data": {
      "text/plain": [
       "1"
      ]
     },
     "execution_count": 560,
     "metadata": {},
     "output_type": "execute_result"
    }
   ],
   "source": [
    "3 - 2"
   ]
  },
  {
   "cell_type": "code",
   "execution_count": 561,
   "id": "94596d1b",
   "metadata": {},
   "outputs": [
    {
     "data": {
      "text/plain": [
       "6"
      ]
     },
     "execution_count": 561,
     "metadata": {},
     "output_type": "execute_result"
    }
   ],
   "source": [
    "2 * 3"
   ]
  },
  {
   "cell_type": "code",
   "execution_count": 562,
   "id": "a9b893b2",
   "metadata": {},
   "outputs": [
    {
     "data": {
      "text/plain": [
       "1.5"
      ]
     },
     "execution_count": 562,
     "metadata": {},
     "output_type": "execute_result"
    }
   ],
   "source": [
    "3 / 2"
   ]
  },
  {
   "cell_type": "markdown",
   "id": "56969301",
   "metadata": {},
   "source": [
    "Python uses two multiplication symbols to represent an exponent"
   ]
  },
  {
   "cell_type": "code",
   "execution_count": 563,
   "id": "223055e6",
   "metadata": {},
   "outputs": [
    {
     "data": {
      "text/plain": [
       "9"
      ]
     },
     "execution_count": 563,
     "metadata": {},
     "output_type": "execute_result"
    }
   ],
   "source": [
    "3 ** 2"
   ]
  },
  {
   "cell_type": "code",
   "execution_count": 564,
   "id": "27a8a9ec",
   "metadata": {},
   "outputs": [
    {
     "data": {
      "text/plain": [
       "27"
      ]
     },
     "execution_count": 564,
     "metadata": {},
     "output_type": "execute_result"
    }
   ],
   "source": [
    "3 ** 3"
   ]
  },
  {
   "cell_type": "code",
   "execution_count": 565,
   "id": "f69fd47d",
   "metadata": {},
   "outputs": [
    {
     "data": {
      "text/plain": [
       "1000000"
      ]
     },
     "execution_count": 565,
     "metadata": {},
     "output_type": "execute_result"
    }
   ],
   "source": [
    "10 ** 6"
   ]
  },
  {
   "cell_type": "markdown",
   "id": "a43726e9",
   "metadata": {},
   "source": [
    "Python also supports operator precedence, allowing us to perform mathematical calculations following this order.\n",
    "We can also use parentheses to change this precedence when needed."
   ]
  },
  {
   "cell_type": "code",
   "execution_count": 566,
   "id": "e8b2214a",
   "metadata": {},
   "outputs": [
    {
     "data": {
      "text/plain": [
       "14"
      ]
     },
     "execution_count": 566,
     "metadata": {},
     "output_type": "execute_result"
    }
   ],
   "source": [
    "2 + 3 * 4"
   ]
  },
  {
   "cell_type": "code",
   "execution_count": 567,
   "id": "5aba5842",
   "metadata": {},
   "outputs": [
    {
     "data": {
      "text/plain": [
       "20"
      ]
     },
     "execution_count": 567,
     "metadata": {},
     "output_type": "execute_result"
    }
   ],
   "source": [
    "(2 + 3) * 4"
   ]
  },
  {
   "cell_type": "markdown",
   "id": "eca0c1a9",
   "metadata": {},
   "source": [
    "#### Float"
   ]
  },
  {
   "cell_type": "markdown",
   "id": "9aa196a1",
   "metadata": {},
   "source": [
    "A float represents numeric values with a decimal point, such as `1.2`.\n",
    "This name is used in almost all programming languages.\n",
    "In Python, we can use these values without worry, as they will behave as expected in most cases."
   ]
  },
  {
   "cell_type": "code",
   "execution_count": 568,
   "id": "187edc0e",
   "metadata": {},
   "outputs": [
    {
     "data": {
      "text/plain": [
       "0.2"
      ]
     },
     "execution_count": 568,
     "metadata": {},
     "output_type": "execute_result"
    }
   ],
   "source": [
    "0.1 + 0.1"
   ]
  },
  {
   "cell_type": "code",
   "execution_count": 569,
   "id": "e8ca27cc",
   "metadata": {},
   "outputs": [
    {
     "data": {
      "text/plain": [
       "0.2"
      ]
     },
     "execution_count": 569,
     "metadata": {},
     "output_type": "execute_result"
    }
   ],
   "source": [
    "2 * 0.1"
   ]
  },
  {
   "cell_type": "code",
   "execution_count": 570,
   "id": "262cfb96",
   "metadata": {},
   "outputs": [
    {
     "data": {
      "text/plain": [
       "0.4"
      ]
     },
     "execution_count": 570,
     "metadata": {},
     "output_type": "execute_result"
    }
   ],
   "source": [
    "2 * 0.2"
   ]
  },
  {
   "cell_type": "markdown",
   "id": "cad8cb18",
   "metadata": {},
   "source": [
    "However, be aware that we may get arbitrary values as a result."
   ]
  },
  {
   "cell_type": "code",
   "execution_count": 571,
   "id": "d1e845aa",
   "metadata": {},
   "outputs": [
    {
     "data": {
      "text/plain": [
       "0.020000000000000004"
      ]
     },
     "execution_count": 571,
     "metadata": {},
     "output_type": "execute_result"
    }
   ],
   "source": [
    "0.2 * 0.1"
   ]
  },
  {
   "cell_type": "code",
   "execution_count": 572,
   "id": "cda851f8",
   "metadata": {},
   "outputs": [
    {
     "data": {
      "text/plain": [
       "0.30000000000000004"
      ]
     },
     "execution_count": 572,
     "metadata": {},
     "output_type": "execute_result"
    }
   ],
   "source": [
    "3 * 0.1"
   ]
  },
  {
   "cell_type": "markdown",
   "id": "d0f06043",
   "metadata": {},
   "source": [
    "#### Integers and Float"
   ]
  },
  {
   "cell_type": "markdown",
   "id": "e8192b75",
   "metadata": {},
   "source": [
    "In the results, we may get floats even when the operation is between two integer values."
   ]
  },
  {
   "cell_type": "code",
   "execution_count": 573,
   "id": "b10350b5",
   "metadata": {},
   "outputs": [
    {
     "data": {
      "text/plain": [
       "2.0"
      ]
     },
     "execution_count": 573,
     "metadata": {},
     "output_type": "execute_result"
    }
   ],
   "source": [
    "4 / 2"
   ]
  },
  {
   "cell_type": "markdown",
   "id": "5bcfbb07",
   "metadata": {},
   "source": [
    "If you mix an integer with a float, you will get a float by default in Python."
   ]
  },
  {
   "cell_type": "code",
   "execution_count": 574,
   "id": "b9883e5e",
   "metadata": {},
   "outputs": [
    {
     "data": {
      "text/plain": [
       "6.0"
      ]
     },
     "execution_count": 574,
     "metadata": {},
     "output_type": "execute_result"
    }
   ],
   "source": [
    "2 * 3.0"
   ]
  },
  {
   "cell_type": "code",
   "execution_count": 575,
   "id": "4af2e2d3",
   "metadata": {},
   "outputs": [
    {
     "data": {
      "text/plain": [
       "9.0"
      ]
     },
     "execution_count": 575,
     "metadata": {},
     "output_type": "execute_result"
    }
   ],
   "source": [
    "3.0 ** 2"
   ]
  },
  {
   "cell_type": "code",
   "execution_count": 576,
   "id": "e5160c19",
   "metadata": {},
   "outputs": [
    {
     "data": {
      "text/plain": [
       "3.0"
      ]
     },
     "execution_count": 576,
     "metadata": {},
     "output_type": "execute_result"
    }
   ],
   "source": [
    "1 + 2.0"
   ]
  },
  {
   "cell_type": "markdown",
   "id": "9c0cc43f",
   "metadata": {},
   "source": [
    "#### Underscores"
   ]
  },
  {
   "cell_type": "markdown",
   "id": "75ba7458",
   "metadata": {},
   "source": [
    "It is possible to write a large number by grouping digits using underscores (`_`) to make long numbers more readable."
   ]
  },
  {
   "cell_type": "code",
   "execution_count": 577,
   "id": "5b1bfe8e",
   "metadata": {},
   "outputs": [
    {
     "name": "stdout",
     "output_type": "stream",
     "text": [
      "14000000000\n"
     ]
    }
   ],
   "source": [
    "universe_age = 14_000_000_000\n",
    "print(universe_age)"
   ]
  },
  {
   "cell_type": "markdown",
   "id": "a49219ce",
   "metadata": {},
   "source": [
    "Python ignores underscores (`_`) and stores only the numeric value."
   ]
  },
  {
   "cell_type": "markdown",
   "id": "c18a398f",
   "metadata": {},
   "source": [
    "#### Multiple Assignment"
   ]
  },
  {
   "cell_type": "markdown",
   "id": "4aa2e138",
   "metadata": {},
   "source": [
    "We can assign more than one variable using only one line of code:"
   ]
  },
  {
   "cell_type": "code",
   "execution_count": 578,
   "id": "35f6a806",
   "metadata": {},
   "outputs": [
    {
     "name": "stdout",
     "output_type": "stream",
     "text": [
      "x = 0,\n",
      "y = 0,\n",
      "z = 0\n"
     ]
    }
   ],
   "source": [
    "x, y, z = 0, 0, 0\n",
    "print(f\"x = {x},\\ny = {y},\\nz = {z}\")"
   ]
  },
  {
   "cell_type": "markdown",
   "id": "fdc39c05",
   "metadata": {},
   "source": [
    "It is necessary to separate the variables with a comma."
   ]
  },
  {
   "cell_type": "markdown",
   "id": "c3a372fe",
   "metadata": {},
   "source": [
    "#### Constants"
   ]
  },
  {
   "cell_type": "markdown",
   "id": "b99a9ee4",
   "metadata": {},
   "source": [
    "A constant is a variable whose value does not change during the execution of a program.\n",
    "Python does not have this type of variable by default, but best practices recommend writing variables that represent these values entirely in uppercase letters."
   ]
  },
  {
   "cell_type": "code",
   "execution_count": 579,
   "id": "b9792cc2",
   "metadata": {},
   "outputs": [
    {
     "name": "stdout",
     "output_type": "stream",
     "text": [
      "1000\n"
     ]
    }
   ],
   "source": [
    "MAX_CONSTANT = 1000\n",
    "print(MAX_CONSTANT)"
   ]
  },
  {
   "cell_type": "markdown",
   "id": "440bf862",
   "metadata": {},
   "source": [
    "## Comments"
   ]
  },
  {
   "cell_type": "markdown",
   "id": "9c120911",
   "metadata": {},
   "source": [
    "Comments are a great help in organizing the code because, as it becomes more extensive and complex, they help describe and remind us what each part does."
   ]
  },
  {
   "cell_type": "code",
   "execution_count": 580,
   "id": "197b1211",
   "metadata": {},
   "outputs": [
    {
     "name": "stdout",
     "output_type": "stream",
     "text": [
      "Hello World!\n"
     ]
    }
   ],
   "source": [
    "# sey hello word\n",
    "print(\"Hello World!\")"
   ]
  },
  {
   "cell_type": "markdown",
   "id": "8be629a3",
   "metadata": {},
   "source": [
    "## The Zen of Python"
   ]
  },
  {
   "cell_type": "markdown",
   "id": "dad18f92",
   "metadata": {},
   "source": [
    "Python has some “commandments” that we can access in the `this` library.\n",
    "To use these packages that add functionality, simply use the `import` statement followed by the library name."
   ]
  },
  {
   "cell_type": "code",
   "execution_count": 581,
   "id": "0ce12e32",
   "metadata": {},
   "outputs": [],
   "source": [
    "import this"
   ]
  }
 ],
 "metadata": {
  "kernelspec": {
   "display_name": ".venv",
   "language": "python",
   "name": "python3"
  },
  "language_info": {
   "codemirror_mode": {
    "name": "ipython",
    "version": 3
   },
   "file_extension": ".py",
   "mimetype": "text/x-python",
   "name": "python",
   "nbconvert_exporter": "python",
   "pygments_lexer": "ipython3",
   "version": "3.13.5"
  }
 },
 "nbformat": 4,
 "nbformat_minor": 5
}
